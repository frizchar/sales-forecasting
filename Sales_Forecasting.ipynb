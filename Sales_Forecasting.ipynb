{
  "nbformat": 4,
  "nbformat_minor": 0,
  "metadata": {
    "colab": {
      "name": "Sales Forecasting.ipynb",
      "provenance": [],
      "collapsed_sections": [],
      "authorship_tag": "ABX9TyN5WDCh/rPfWISoAn6wXi0G",
      "include_colab_link": true
    },
    "kernelspec": {
      "display_name": "Python 3",
      "name": "python3"
    },
    "language_info": {
      "name": "python"
    },
    "widgets": {
      "state": [],
      "application/vnd.jupyter.widget-state+json": {
        "08869a50c54c49608bacf6abd94921ae": {
          "model_module": "@jupyter-widgets/controls",
          "model_name": "HBoxModel",
          "model_module_version": "1.5.0",
          "state": {
            "_view_name": "HBoxView",
            "_dom_classes": [],
            "_model_name": "HBoxModel",
            "_view_module": "@jupyter-widgets/controls",
            "_model_module_version": "1.5.0",
            "_view_count": null,
            "_view_module_version": "1.5.0",
            "box_style": "",
            "layout": "IPY_MODEL_ac9842e6f13540f9a2b43034bd3f89e9",
            "_model_module": "@jupyter-widgets/controls",
            "children": [
              "IPY_MODEL_51e748dbbbc14542a65c2f49f9753034",
              "IPY_MODEL_7ace9860fa9247d4a210932111baf2cd",
              "IPY_MODEL_154e63aad9104f52a56c840d2e3926f8"
            ]
          }
        },
        "ac9842e6f13540f9a2b43034bd3f89e9": {
          "model_module": "@jupyter-widgets/base",
          "model_name": "LayoutModel",
          "model_module_version": "1.2.0",
          "state": {
            "_view_name": "LayoutView",
            "grid_template_rows": null,
            "right": null,
            "justify_content": null,
            "_view_module": "@jupyter-widgets/base",
            "overflow": null,
            "_model_module_version": "1.2.0",
            "_view_count": null,
            "flex_flow": null,
            "width": null,
            "min_width": null,
            "border": null,
            "align_items": null,
            "bottom": null,
            "_model_module": "@jupyter-widgets/base",
            "top": null,
            "grid_column": null,
            "overflow_y": null,
            "overflow_x": null,
            "grid_auto_flow": null,
            "grid_area": null,
            "grid_template_columns": null,
            "flex": null,
            "_model_name": "LayoutModel",
            "justify_items": null,
            "grid_row": null,
            "max_height": null,
            "align_content": null,
            "visibility": null,
            "align_self": null,
            "height": null,
            "min_height": null,
            "padding": null,
            "grid_auto_rows": null,
            "grid_gap": null,
            "max_width": null,
            "order": null,
            "_view_module_version": "1.2.0",
            "grid_template_areas": null,
            "object_position": null,
            "object_fit": null,
            "grid_auto_columns": null,
            "margin": null,
            "display": null,
            "left": null
          }
        },
        "51e748dbbbc14542a65c2f49f9753034": {
          "model_module": "@jupyter-widgets/controls",
          "model_name": "HTMLModel",
          "model_module_version": "1.5.0",
          "state": {
            "_view_name": "HTMLView",
            "style": "IPY_MODEL_a66743791ae541509622760cbcdfee00",
            "_dom_classes": [],
            "description": "",
            "_model_name": "HTMLModel",
            "placeholder": "​",
            "_view_module": "@jupyter-widgets/controls",
            "_model_module_version": "1.5.0",
            "value": "100%",
            "_view_count": null,
            "_view_module_version": "1.5.0",
            "description_tooltip": null,
            "_model_module": "@jupyter-widgets/controls",
            "layout": "IPY_MODEL_be3e9c29e0f34229885fed6faa9a0ba3"
          }
        },
        "7ace9860fa9247d4a210932111baf2cd": {
          "model_module": "@jupyter-widgets/controls",
          "model_name": "FloatProgressModel",
          "model_module_version": "1.5.0",
          "state": {
            "_view_name": "ProgressView",
            "style": "IPY_MODEL_0deaaee31482481a9c9352a99e7d20fa",
            "_dom_classes": [],
            "description": "",
            "_model_name": "FloatProgressModel",
            "bar_style": "success",
            "max": 4,
            "_view_module": "@jupyter-widgets/controls",
            "_model_module_version": "1.5.0",
            "value": 4,
            "_view_count": null,
            "_view_module_version": "1.5.0",
            "orientation": "horizontal",
            "min": 0,
            "description_tooltip": null,
            "_model_module": "@jupyter-widgets/controls",
            "layout": "IPY_MODEL_b87e41282f0c46ad898dba41aa5c7ca1"
          }
        },
        "154e63aad9104f52a56c840d2e3926f8": {
          "model_module": "@jupyter-widgets/controls",
          "model_name": "HTMLModel",
          "model_module_version": "1.5.0",
          "state": {
            "_view_name": "HTMLView",
            "style": "IPY_MODEL_1971a7bf91e14c83829ec8793a6c7c07",
            "_dom_classes": [],
            "description": "",
            "_model_name": "HTMLModel",
            "placeholder": "​",
            "_view_module": "@jupyter-widgets/controls",
            "_model_module_version": "1.5.0",
            "value": " 4/4 [00:09&lt;00:00,  2.27s/it]",
            "_view_count": null,
            "_view_module_version": "1.5.0",
            "description_tooltip": null,
            "_model_module": "@jupyter-widgets/controls",
            "layout": "IPY_MODEL_469096ccdd6840f5b5392a46683e8582"
          }
        },
        "a66743791ae541509622760cbcdfee00": {
          "model_module": "@jupyter-widgets/controls",
          "model_name": "DescriptionStyleModel",
          "model_module_version": "1.5.0",
          "state": {
            "_view_name": "StyleView",
            "_model_name": "DescriptionStyleModel",
            "description_width": "",
            "_view_module": "@jupyter-widgets/base",
            "_model_module_version": "1.5.0",
            "_view_count": null,
            "_view_module_version": "1.2.0",
            "_model_module": "@jupyter-widgets/controls"
          }
        },
        "be3e9c29e0f34229885fed6faa9a0ba3": {
          "model_module": "@jupyter-widgets/base",
          "model_name": "LayoutModel",
          "model_module_version": "1.2.0",
          "state": {
            "_view_name": "LayoutView",
            "grid_template_rows": null,
            "right": null,
            "justify_content": null,
            "_view_module": "@jupyter-widgets/base",
            "overflow": null,
            "_model_module_version": "1.2.0",
            "_view_count": null,
            "flex_flow": null,
            "width": null,
            "min_width": null,
            "border": null,
            "align_items": null,
            "bottom": null,
            "_model_module": "@jupyter-widgets/base",
            "top": null,
            "grid_column": null,
            "overflow_y": null,
            "overflow_x": null,
            "grid_auto_flow": null,
            "grid_area": null,
            "grid_template_columns": null,
            "flex": null,
            "_model_name": "LayoutModel",
            "justify_items": null,
            "grid_row": null,
            "max_height": null,
            "align_content": null,
            "visibility": null,
            "align_self": null,
            "height": null,
            "min_height": null,
            "padding": null,
            "grid_auto_rows": null,
            "grid_gap": null,
            "max_width": null,
            "order": null,
            "_view_module_version": "1.2.0",
            "grid_template_areas": null,
            "object_position": null,
            "object_fit": null,
            "grid_auto_columns": null,
            "margin": null,
            "display": null,
            "left": null
          }
        },
        "0deaaee31482481a9c9352a99e7d20fa": {
          "model_module": "@jupyter-widgets/controls",
          "model_name": "ProgressStyleModel",
          "model_module_version": "1.5.0",
          "state": {
            "_view_name": "StyleView",
            "_model_name": "ProgressStyleModel",
            "description_width": "",
            "_view_module": "@jupyter-widgets/base",
            "_model_module_version": "1.5.0",
            "_view_count": null,
            "_view_module_version": "1.2.0",
            "bar_color": null,
            "_model_module": "@jupyter-widgets/controls"
          }
        },
        "b87e41282f0c46ad898dba41aa5c7ca1": {
          "model_module": "@jupyter-widgets/base",
          "model_name": "LayoutModel",
          "model_module_version": "1.2.0",
          "state": {
            "_view_name": "LayoutView",
            "grid_template_rows": null,
            "right": null,
            "justify_content": null,
            "_view_module": "@jupyter-widgets/base",
            "overflow": null,
            "_model_module_version": "1.2.0",
            "_view_count": null,
            "flex_flow": null,
            "width": null,
            "min_width": null,
            "border": null,
            "align_items": null,
            "bottom": null,
            "_model_module": "@jupyter-widgets/base",
            "top": null,
            "grid_column": null,
            "overflow_y": null,
            "overflow_x": null,
            "grid_auto_flow": null,
            "grid_area": null,
            "grid_template_columns": null,
            "flex": null,
            "_model_name": "LayoutModel",
            "justify_items": null,
            "grid_row": null,
            "max_height": null,
            "align_content": null,
            "visibility": null,
            "align_self": null,
            "height": null,
            "min_height": null,
            "padding": null,
            "grid_auto_rows": null,
            "grid_gap": null,
            "max_width": null,
            "order": null,
            "_view_module_version": "1.2.0",
            "grid_template_areas": null,
            "object_position": null,
            "object_fit": null,
            "grid_auto_columns": null,
            "margin": null,
            "display": null,
            "left": null
          }
        },
        "1971a7bf91e14c83829ec8793a6c7c07": {
          "model_module": "@jupyter-widgets/controls",
          "model_name": "DescriptionStyleModel",
          "model_module_version": "1.5.0",
          "state": {
            "_view_name": "StyleView",
            "_model_name": "DescriptionStyleModel",
            "description_width": "",
            "_view_module": "@jupyter-widgets/base",
            "_model_module_version": "1.5.0",
            "_view_count": null,
            "_view_module_version": "1.2.0",
            "_model_module": "@jupyter-widgets/controls"
          }
        },
        "469096ccdd6840f5b5392a46683e8582": {
          "model_module": "@jupyter-widgets/base",
          "model_name": "LayoutModel",
          "model_module_version": "1.2.0",
          "state": {
            "_view_name": "LayoutView",
            "grid_template_rows": null,
            "right": null,
            "justify_content": null,
            "_view_module": "@jupyter-widgets/base",
            "overflow": null,
            "_model_module_version": "1.2.0",
            "_view_count": null,
            "flex_flow": null,
            "width": null,
            "min_width": null,
            "border": null,
            "align_items": null,
            "bottom": null,
            "_model_module": "@jupyter-widgets/base",
            "top": null,
            "grid_column": null,
            "overflow_y": null,
            "overflow_x": null,
            "grid_auto_flow": null,
            "grid_area": null,
            "grid_template_columns": null,
            "flex": null,
            "_model_name": "LayoutModel",
            "justify_items": null,
            "grid_row": null,
            "max_height": null,
            "align_content": null,
            "visibility": null,
            "align_self": null,
            "height": null,
            "min_height": null,
            "padding": null,
            "grid_auto_rows": null,
            "grid_gap": null,
            "max_width": null,
            "order": null,
            "_view_module_version": "1.2.0",
            "grid_template_areas": null,
            "object_position": null,
            "object_fit": null,
            "grid_auto_columns": null,
            "margin": null,
            "display": null,
            "left": null
          }
        }
      }
    }
  },
  "cells": [
    {
      "cell_type": "markdown",
      "metadata": {
        "id": "view-in-github",
        "colab_type": "text"
      },
      "source": [
        "<a href=\"https://colab.research.google.com/github/frizchar/Sales-Forecasting/blob/main/Sales_Forecasting.ipynb\" target=\"_parent\"><img src=\"https://colab.research.google.com/assets/colab-badge.svg\" alt=\"Open In Colab\"/></a>"
      ]
    },
    {
      "cell_type": "markdown",
      "metadata": {
        "id": "f_J75ay35i8k"
      },
      "source": [
        "# Sales Forecasting using the Facebook Prophet Algorithm"
      ]
    },
    {
      "cell_type": "markdown",
      "metadata": {
        "id": "m9ZwraZiwmqC"
      },
      "source": [
        "## Import Packages & Read Data"
      ]
    },
    {
      "cell_type": "code",
      "metadata": {
        "id": "TZvZRXgWq8Pu"
      },
      "source": [
        "import pandas as pd\n",
        "import numpy as np\n",
        "from fbprophet import Prophet\n",
        "import os\n",
        "import datetime   "
      ],
      "execution_count": 1,
      "outputs": []
    },
    {
      "cell_type": "code",
      "metadata": {
        "colab": {
          "base_uri": "https://localhost:8080/",
          "height": 206
        },
        "id": "EIkUnFZ2rq7D",
        "outputId": "2300143a-026b-4e8d-be8e-60ebbc437151"
      },
      "source": [
        "df = pd.read_csv('/content/sample_data/data.csv', keep_default_na=False, parse_dates=['date'], infer_datetime_format=True, header = 0)  \n",
        "df.tail()"
      ],
      "execution_count": 2,
      "outputs": [
        {
          "output_type": "execute_result",
          "data": {
            "text/html": [
              "<div>\n",
              "<style scoped>\n",
              "    .dataframe tbody tr th:only-of-type {\n",
              "        vertical-align: middle;\n",
              "    }\n",
              "\n",
              "    .dataframe tbody tr th {\n",
              "        vertical-align: top;\n",
              "    }\n",
              "\n",
              "    .dataframe thead th {\n",
              "        text-align: right;\n",
              "    }\n",
              "</style>\n",
              "<table border=\"1\" class=\"dataframe\">\n",
              "  <thead>\n",
              "    <tr style=\"text-align: right;\">\n",
              "      <th></th>\n",
              "      <th>id</th>\n",
              "      <th>date</th>\n",
              "      <th>store_nbr</th>\n",
              "      <th>family</th>\n",
              "      <th>sales</th>\n",
              "      <th>onpromotion</th>\n",
              "    </tr>\n",
              "  </thead>\n",
              "  <tbody>\n",
              "    <tr>\n",
              "      <th>3000883</th>\n",
              "      <td>3000883</td>\n",
              "      <td>2017-08-15</td>\n",
              "      <td>9</td>\n",
              "      <td>POULTRY</td>\n",
              "      <td>438.133</td>\n",
              "      <td>15.0</td>\n",
              "    </tr>\n",
              "    <tr>\n",
              "      <th>3000884</th>\n",
              "      <td>3000884</td>\n",
              "      <td>2017-08-15</td>\n",
              "      <td>9</td>\n",
              "      <td>PREPARED FOODS</td>\n",
              "      <td>154.553</td>\n",
              "      <td>8.0</td>\n",
              "    </tr>\n",
              "    <tr>\n",
              "      <th>3000885</th>\n",
              "      <td>3000885</td>\n",
              "      <td>2017-08-15</td>\n",
              "      <td>9</td>\n",
              "      <td>PRODUCE</td>\n",
              "      <td>2419.729</td>\n",
              "      <td>148.0</td>\n",
              "    </tr>\n",
              "    <tr>\n",
              "      <th>3000886</th>\n",
              "      <td>3000886</td>\n",
              "      <td>2017-08-15</td>\n",
              "      <td>9</td>\n",
              "      <td>SCHOOL AND OFFICE SUPPLIES</td>\n",
              "      <td>121.000</td>\n",
              "      <td>10.0</td>\n",
              "    </tr>\n",
              "    <tr>\n",
              "      <th>3000887</th>\n",
              "      <td>3000887</td>\n",
              "      <td>2017-08-15</td>\n",
              "      <td>9</td>\n",
              "      <td>SEAFOOD</td>\n",
              "      <td>16.000</td>\n",
              "      <td>2.0</td>\n",
              "    </tr>\n",
              "  </tbody>\n",
              "</table>\n",
              "</div>"
            ],
            "text/plain": [
              "              id       date  ...     sales onpromotion\n",
              "3000883  3000883 2017-08-15  ...   438.133        15.0\n",
              "3000884  3000884 2017-08-15  ...   154.553         8.0\n",
              "3000885  3000885 2017-08-15  ...  2419.729       148.0\n",
              "3000886  3000886 2017-08-15  ...   121.000        10.0\n",
              "3000887  3000887 2017-08-15  ...    16.000         2.0\n",
              "\n",
              "[5 rows x 6 columns]"
            ]
          },
          "metadata": {},
          "execution_count": 2
        }
      ]
    },
    {
      "cell_type": "code",
      "metadata": {
        "id": "dT21KKjMX9aJ",
        "colab": {
          "base_uri": "https://localhost:8080/"
        },
        "outputId": "1d4a1aba-998a-45d7-e00b-240cc3fb20f6"
      },
      "source": [
        "#get max date of the dataset\n",
        "print(max(df['date']))"
      ],
      "execution_count": 3,
      "outputs": [
        {
          "output_type": "stream",
          "name": "stdout",
          "text": [
            "2017-08-15 00:00:00\n"
          ]
        }
      ]
    },
    {
      "cell_type": "markdown",
      "metadata": {
        "id": "qsaJJobe7TgF"
      },
      "source": [
        "## Exploratory Data Analysis"
      ]
    },
    {
      "cell_type": "code",
      "metadata": {
        "id": "qX1f8RpL99zc",
        "colab": {
          "base_uri": "https://localhost:8080/"
        },
        "outputId": "a46ba097-ef4d-4476-cd22-8e3c775da627"
      },
      "source": [
        "#get datatype of each column\n",
        "df.dtypes "
      ],
      "execution_count": 4,
      "outputs": [
        {
          "output_type": "execute_result",
          "data": {
            "text/plain": [
              "id                      int64\n",
              "date           datetime64[ns]\n",
              "store_nbr               int64\n",
              "family                 object\n",
              "sales                 float64\n",
              "onpromotion           float64\n",
              "dtype: object"
            ]
          },
          "metadata": {},
          "execution_count": 4
        }
      ]
    },
    {
      "cell_type": "code",
      "metadata": {
        "id": "mqb8JHhTRj3T",
        "colab": {
          "base_uri": "https://localhost:8080/"
        },
        "outputId": "d1a06748-f55b-4520-99db-1b763f8dbe7f"
      },
      "source": [
        "#check for rows with a null value in at least one column\n",
        "print(df[df.isnull().any(axis=1)]) \n",
        "#get the shape of the dataset\n",
        "df.shape                            "
      ],
      "execution_count": 5,
      "outputs": [
        {
          "output_type": "stream",
          "name": "stdout",
          "text": [
            "Empty DataFrame\n",
            "Columns: [id, date, store_nbr, family, sales, onpromotion]\n",
            "Index: []\n"
          ]
        },
        {
          "output_type": "execute_result",
          "data": {
            "text/plain": [
              "(3000888, 6)"
            ]
          },
          "metadata": {},
          "execution_count": 5
        }
      ]
    },
    {
      "cell_type": "code",
      "metadata": {
        "id": "o5vqMxDqYJJH",
        "colab": {
          "base_uri": "https://localhost:8080/"
        },
        "outputId": "f9717d22-7148-40ac-8a0b-44f8942f97e4"
      },
      "source": [
        "#get unique values of each column   \n",
        "print(df.apply(lambda col: col.unique())) "
      ],
      "execution_count": 6,
      "outputs": [
        {
          "output_type": "stream",
          "name": "stdout",
          "text": [
            "id             [0, 1, 2, 3, 4, 5, 6, 7, 8, 9, 10, 11, 12, 13,...\n",
            "date           [2013-01-01T00:00:00.000000000, 2013-01-02T00:...\n",
            "store_nbr      [1, 10, 11, 12, 13, 14, 15, 16, 17, 18, 19, 2,...\n",
            "family         [AUTOMOTIVE, BABY CARE, BEAUTY, BEVERAGES, BOO...\n",
            "sales          [0.0, 2.0, 810.0, 180.58900000000003, 186.0, 1...\n",
            "onpromotion    [0.0, 5.0, 2.0, 126.0, 55.0, 174.0, 119.0, 41....\n",
            "dtype: object\n"
          ]
        }
      ]
    },
    {
      "cell_type": "code",
      "metadata": {
        "id": "98rDYio3_HGm",
        "colab": {
          "base_uri": "https://localhost:8080/"
        },
        "outputId": "48eefb4d-c140-4d1f-d20d-b9dafb87ed11"
      },
      "source": [
        "df['family'] = df['family'].astype('string')              #change column 'family' datatype from object to string\n",
        "df.dtypes                                                 #get datatype of columns of new dataframe df2"
      ],
      "execution_count": 7,
      "outputs": [
        {
          "output_type": "execute_result",
          "data": {
            "text/plain": [
              "id                      int64\n",
              "date           datetime64[ns]\n",
              "store_nbr               int64\n",
              "family                 string\n",
              "sales                 float64\n",
              "onpromotion           float64\n",
              "dtype: object"
            ]
          },
          "metadata": {},
          "execution_count": 7
        }
      ]
    },
    {
      "cell_type": "code",
      "metadata": {
        "id": "3dQh3sIrtT6g",
        "colab": {
          "base_uri": "https://localhost:8080/",
          "height": 206
        },
        "outputId": "4a635d30-1ff5-4cc0-f5e4-4851a5e9c426"
      },
      "source": [
        "df_fam = df.groupby(['family'])['sales'].sum().to_frame(name = 'Total_Sales_per_Family').reset_index()  #group total orders by product\n",
        "df2_fam = df_fam.sort_values(by='Total_Sales_per_Family', ascending=False)\n",
        "df2_fam.head()  #inspect top selling product categories (product families)"
      ],
      "execution_count": 8,
      "outputs": [
        {
          "output_type": "execute_result",
          "data": {
            "text/html": [
              "<div>\n",
              "<style scoped>\n",
              "    .dataframe tbody tr th:only-of-type {\n",
              "        vertical-align: middle;\n",
              "    }\n",
              "\n",
              "    .dataframe tbody tr th {\n",
              "        vertical-align: top;\n",
              "    }\n",
              "\n",
              "    .dataframe thead th {\n",
              "        text-align: right;\n",
              "    }\n",
              "</style>\n",
              "<table border=\"1\" class=\"dataframe\">\n",
              "  <thead>\n",
              "    <tr style=\"text-align: right;\">\n",
              "      <th></th>\n",
              "      <th>family</th>\n",
              "      <th>Total_Sales_per_Family</th>\n",
              "    </tr>\n",
              "  </thead>\n",
              "  <tbody>\n",
              "    <tr>\n",
              "      <th>12</th>\n",
              "      <td>GROCERY I</td>\n",
              "      <td>3.434627e+08</td>\n",
              "    </tr>\n",
              "    <tr>\n",
              "      <th>3</th>\n",
              "      <td>BEVERAGES</td>\n",
              "      <td>2.169545e+08</td>\n",
              "    </tr>\n",
              "    <tr>\n",
              "      <th>30</th>\n",
              "      <td>PRODUCE</td>\n",
              "      <td>1.227047e+08</td>\n",
              "    </tr>\n",
              "    <tr>\n",
              "      <th>7</th>\n",
              "      <td>CLEANING</td>\n",
              "      <td>9.752129e+07</td>\n",
              "    </tr>\n",
              "    <tr>\n",
              "      <th>8</th>\n",
              "      <td>DAIRY</td>\n",
              "      <td>6.448771e+07</td>\n",
              "    </tr>\n",
              "  </tbody>\n",
              "</table>\n",
              "</div>"
            ],
            "text/plain": [
              "       family  Total_Sales_per_Family\n",
              "12  GROCERY I            3.434627e+08\n",
              "3   BEVERAGES            2.169545e+08\n",
              "30    PRODUCE            1.227047e+08\n",
              "7    CLEANING            9.752129e+07\n",
              "8       DAIRY            6.448771e+07"
            ]
          },
          "metadata": {},
          "execution_count": 8
        }
      ]
    },
    {
      "cell_type": "code",
      "metadata": {
        "id": "984PzoyCt5lF",
        "colab": {
          "base_uri": "https://localhost:8080/",
          "height": 206
        },
        "outputId": "3bfef092-4619-4ad5-da75-b91df0001559"
      },
      "source": [
        "df_st = df.groupby(['store_nbr'])['sales'].sum().to_frame(name = 'Total_Sales_per_Store').reset_index()  #group total orders by product\n",
        "df2_st = df_st.sort_values(by='Total_Sales_per_Store', ascending=False)\n",
        "df2_st.head()  #inspect top selling stores"
      ],
      "execution_count": 9,
      "outputs": [
        {
          "output_type": "execute_result",
          "data": {
            "text/html": [
              "<div>\n",
              "<style scoped>\n",
              "    .dataframe tbody tr th:only-of-type {\n",
              "        vertical-align: middle;\n",
              "    }\n",
              "\n",
              "    .dataframe tbody tr th {\n",
              "        vertical-align: top;\n",
              "    }\n",
              "\n",
              "    .dataframe thead th {\n",
              "        text-align: right;\n",
              "    }\n",
              "</style>\n",
              "<table border=\"1\" class=\"dataframe\">\n",
              "  <thead>\n",
              "    <tr style=\"text-align: right;\">\n",
              "      <th></th>\n",
              "      <th>store_nbr</th>\n",
              "      <th>Total_Sales_per_Store</th>\n",
              "    </tr>\n",
              "  </thead>\n",
              "  <tbody>\n",
              "    <tr>\n",
              "      <th>43</th>\n",
              "      <td>44</td>\n",
              "      <td>6.208755e+07</td>\n",
              "    </tr>\n",
              "    <tr>\n",
              "      <th>44</th>\n",
              "      <td>45</td>\n",
              "      <td>5.449801e+07</td>\n",
              "    </tr>\n",
              "    <tr>\n",
              "      <th>46</th>\n",
              "      <td>47</td>\n",
              "      <td>5.094831e+07</td>\n",
              "    </tr>\n",
              "    <tr>\n",
              "      <th>2</th>\n",
              "      <td>3</td>\n",
              "      <td>5.048191e+07</td>\n",
              "    </tr>\n",
              "    <tr>\n",
              "      <th>48</th>\n",
              "      <td>49</td>\n",
              "      <td>4.342010e+07</td>\n",
              "    </tr>\n",
              "  </tbody>\n",
              "</table>\n",
              "</div>"
            ],
            "text/plain": [
              "    store_nbr  Total_Sales_per_Store\n",
              "43         44           6.208755e+07\n",
              "44         45           5.449801e+07\n",
              "46         47           5.094831e+07\n",
              "2           3           5.048191e+07\n",
              "48         49           4.342010e+07"
            ]
          },
          "metadata": {},
          "execution_count": 9
        }
      ]
    },
    {
      "cell_type": "code",
      "metadata": {
        "id": "eT0m6klouRF8",
        "colab": {
          "base_uri": "https://localhost:8080/",
          "height": 206
        },
        "outputId": "139b1be1-e69c-4aa1-c7aa-c9d904b516ca"
      },
      "source": [
        "df_fam44 = df[df['store_nbr']==44].groupby(['family'])['sales'].sum().to_frame(name = 'Total_Sales_per_Family').reset_index()  #group total orders by product\n",
        "df2_fam44 = df_fam44.sort_values(by='Total_Sales_per_Family', ascending=False)\n",
        "df2_fam44.head()  #inspect top selling product categories (product families) within top selling store_nbr = 44"
      ],
      "execution_count": 10,
      "outputs": [
        {
          "output_type": "execute_result",
          "data": {
            "text/html": [
              "<div>\n",
              "<style scoped>\n",
              "    .dataframe tbody tr th:only-of-type {\n",
              "        vertical-align: middle;\n",
              "    }\n",
              "\n",
              "    .dataframe tbody tr th {\n",
              "        vertical-align: top;\n",
              "    }\n",
              "\n",
              "    .dataframe thead th {\n",
              "        text-align: right;\n",
              "    }\n",
              "</style>\n",
              "<table border=\"1\" class=\"dataframe\">\n",
              "  <thead>\n",
              "    <tr style=\"text-align: right;\">\n",
              "      <th></th>\n",
              "      <th>family</th>\n",
              "      <th>Total_Sales_per_Family</th>\n",
              "    </tr>\n",
              "  </thead>\n",
              "  <tbody>\n",
              "    <tr>\n",
              "      <th>12</th>\n",
              "      <td>GROCERY I</td>\n",
              "      <td>1.638606e+07</td>\n",
              "    </tr>\n",
              "    <tr>\n",
              "      <th>3</th>\n",
              "      <td>BEVERAGES</td>\n",
              "      <td>1.341786e+07</td>\n",
              "    </tr>\n",
              "    <tr>\n",
              "      <th>30</th>\n",
              "      <td>PRODUCE</td>\n",
              "      <td>1.066606e+07</td>\n",
              "    </tr>\n",
              "    <tr>\n",
              "      <th>7</th>\n",
              "      <td>CLEANING</td>\n",
              "      <td>4.308260e+06</td>\n",
              "    </tr>\n",
              "    <tr>\n",
              "      <th>8</th>\n",
              "      <td>DAIRY</td>\n",
              "      <td>4.277954e+06</td>\n",
              "    </tr>\n",
              "  </tbody>\n",
              "</table>\n",
              "</div>"
            ],
            "text/plain": [
              "       family  Total_Sales_per_Family\n",
              "12  GROCERY I            1.638606e+07\n",
              "3   BEVERAGES            1.341786e+07\n",
              "30    PRODUCE            1.066606e+07\n",
              "7    CLEANING            4.308260e+06\n",
              "8       DAIRY            4.277954e+06"
            ]
          },
          "metadata": {},
          "execution_count": 10
        }
      ]
    },
    {
      "cell_type": "code",
      "metadata": {
        "id": "Mfa2mEIAFnLf",
        "colab": {
          "base_uri": "https://localhost:8080/",
          "height": 287
        },
        "outputId": "967ca1a2-c42f-47e1-a0a7-162c658e8ef8"
      },
      "source": [
        "#plot time series of Sales of store_nbr=44 and family='GROCERY I' over time\n",
        "df[(df['store_nbr']==44) & (df['family']=='GROCERY I')].plot(x='date',y='sales')"
      ],
      "execution_count": 11,
      "outputs": [
        {
          "output_type": "execute_result",
          "data": {
            "text/plain": [
              "<matplotlib.axes._subplots.AxesSubplot at 0x7f071746d9d0>"
            ]
          },
          "metadata": {},
          "execution_count": 11
        },
        {
          "output_type": "display_data",
          "data": {
            "image/png": "[encoded data removed]",
            "text/plain": [
              "<Figure size 432x288 with 1 Axes>"
            ]
          },
          "metadata": {
            "needs_background": "light"
          }
        }
      ]
    },
    {
      "cell_type": "code",
      "metadata": {
        "id": "9NTgcdqVgEqf"
      },
      "source": [
        "#generate dataset of store_nbr=44 and family='GROCERY I'\n",
        "df_store44_grocery = df[(df['store_nbr']==44) & (df['family']=='GROCERY I')] "
      ],
      "execution_count": 12,
      "outputs": []
    },
    {
      "cell_type": "code",
      "metadata": {
        "id": "Y_ilbS1Rg3ls"
      },
      "source": [
        "def grouped(df, key, freq, col):\n",
        "    \"\"\" group data of certain frequency by sum \"\"\"\n",
        "    df_grouped = df.groupby([pd.Grouper(key=key, freq=freq)]).agg(sum = (col, 'sum'))\n",
        "    df_grouped = df_grouped.reset_index()\n",
        "    return df_grouped   \n"
      ],
      "execution_count": 13,
      "outputs": []
    },
    {
      "cell_type": "code",
      "metadata": {
        "id": "G6C8-JGJgKDv"
      },
      "source": [
        "def add_time(df, key, freq, col):\n",
        "    \"\"\" add column 'time' to df \"\"\"\n",
        "    df_grouped = grouped(df, key, freq, col)\n",
        "    df_grouped['time'] = np.arange(len(df_grouped.index))\n",
        "    column_time = df_grouped.pop('time')\n",
        "    df_grouped.insert(1, 'time', column_time)\n",
        "    return df_grouped"
      ],
      "execution_count": 14,
      "outputs": []
    },
    {
      "cell_type": "code",
      "metadata": {
        "id": "LBB5RdIrgOa3",
        "colab": {
          "base_uri": "https://localhost:8080/",
          "height": 206
        },
        "outputId": "89f25013-4cf0-47e8-8c60-9c13ed40490f"
      },
      "source": [
        "# generate weekly dataset based on dataset df2\n",
        "df_weekly = add_time(df_store44_grocery, 'date', 'W', 'sales')\n",
        "df_weekly.tail()"
      ],
      "execution_count": 15,
      "outputs": [
        {
          "output_type": "execute_result",
          "data": {
            "text/html": [
              "<div>\n",
              "<style scoped>\n",
              "    .dataframe tbody tr th:only-of-type {\n",
              "        vertical-align: middle;\n",
              "    }\n",
              "\n",
              "    .dataframe tbody tr th {\n",
              "        vertical-align: top;\n",
              "    }\n",
              "\n",
              "    .dataframe thead th {\n",
              "        text-align: right;\n",
              "    }\n",
              "</style>\n",
              "<table border=\"1\" class=\"dataframe\">\n",
              "  <thead>\n",
              "    <tr style=\"text-align: right;\">\n",
              "      <th></th>\n",
              "      <th>date</th>\n",
              "      <th>time</th>\n",
              "      <th>sum</th>\n",
              "    </tr>\n",
              "  </thead>\n",
              "  <tbody>\n",
              "    <tr>\n",
              "      <th>237</th>\n",
              "      <td>2017-07-23</td>\n",
              "      <td>237</td>\n",
              "      <td>73791.0</td>\n",
              "    </tr>\n",
              "    <tr>\n",
              "      <th>238</th>\n",
              "      <td>2017-07-30</td>\n",
              "      <td>238</td>\n",
              "      <td>71142.0</td>\n",
              "    </tr>\n",
              "    <tr>\n",
              "      <th>239</th>\n",
              "      <td>2017-08-06</td>\n",
              "      <td>239</td>\n",
              "      <td>75507.0</td>\n",
              "    </tr>\n",
              "    <tr>\n",
              "      <th>240</th>\n",
              "      <td>2017-08-13</td>\n",
              "      <td>240</td>\n",
              "      <td>61038.0</td>\n",
              "    </tr>\n",
              "    <tr>\n",
              "      <th>241</th>\n",
              "      <td>2017-08-20</td>\n",
              "      <td>241</td>\n",
              "      <td>16441.0</td>\n",
              "    </tr>\n",
              "  </tbody>\n",
              "</table>\n",
              "</div>"
            ],
            "text/plain": [
              "          date  time      sum\n",
              "237 2017-07-23   237  73791.0\n",
              "238 2017-07-30   238  71142.0\n",
              "239 2017-08-06   239  75507.0\n",
              "240 2017-08-13   240  61038.0\n",
              "241 2017-08-20   241  16441.0"
            ]
          },
          "metadata": {},
          "execution_count": 15
        }
      ]
    },
    {
      "cell_type": "code",
      "metadata": {
        "id": "_ferisXeV5P9"
      },
      "source": [
        "#drop last value of df_weekly dataset\n",
        "df_weekly.drop(df_weekly.tail(1).index,inplace=True)"
      ],
      "execution_count": 16,
      "outputs": []
    },
    {
      "cell_type": "code",
      "metadata": {
        "id": "UR-yKkFQiHEv",
        "colab": {
          "base_uri": "https://localhost:8080/",
          "height": 297
        },
        "outputId": "41a995fa-75cb-4376-bf17-e8c50f133f41"
      },
      "source": [
        "#plot time series of Sales of product line 'Health and beauty' over time\n",
        "df_weekly.plot(x='date',y='sum') "
      ],
      "execution_count": 17,
      "outputs": [
        {
          "output_type": "execute_result",
          "data": {
            "text/plain": [
              "<matplotlib.axes._subplots.AxesSubplot at 0x7f071638f390>"
            ]
          },
          "metadata": {},
          "execution_count": 17
        },
        {
          "output_type": "display_data",
          "data": {
            "image/png": "[encoded data removed]",
            "text/plain": [
              "<Figure size 432x288 with 1 Axes>"
            ]
          },
          "metadata": {
            "needs_background": "light"
          }
        }
      ]
    },
    {
      "cell_type": "markdown",
      "metadata": {
        "id": "yEG6t-09xY39"
      },
      "source": [
        "## Model Building"
      ]
    },
    {
      "cell_type": "code",
      "metadata": {
        "id": "Usn78guFMy0J",
        "colab": {
          "base_uri": "https://localhost:8080/",
          "height": 206
        },
        "outputId": "33869ab6-e656-4f5e-a2c8-ed730f0c61bc"
      },
      "source": [
        "#drop column 'time'\n",
        "df_prophet = df_weekly.drop(['time'], axis=1) \n",
        "#rename columns to y and ds so that Prophet works\n",
        "df_prophet.rename(columns={\"date\": \"ds\", \"sum\": \"y\"}, inplace=True) \n",
        "df_prophet.tail()"
      ],
      "execution_count": 18,
      "outputs": [
        {
          "output_type": "execute_result",
          "data": {
            "text/html": [
              "<div>\n",
              "<style scoped>\n",
              "    .dataframe tbody tr th:only-of-type {\n",
              "        vertical-align: middle;\n",
              "    }\n",
              "\n",
              "    .dataframe tbody tr th {\n",
              "        vertical-align: top;\n",
              "    }\n",
              "\n",
              "    .dataframe thead th {\n",
              "        text-align: right;\n",
              "    }\n",
              "</style>\n",
              "<table border=\"1\" class=\"dataframe\">\n",
              "  <thead>\n",
              "    <tr style=\"text-align: right;\">\n",
              "      <th></th>\n",
              "      <th>ds</th>\n",
              "      <th>y</th>\n",
              "    </tr>\n",
              "  </thead>\n",
              "  <tbody>\n",
              "    <tr>\n",
              "      <th>236</th>\n",
              "      <td>2017-07-16</td>\n",
              "      <td>69860.0</td>\n",
              "    </tr>\n",
              "    <tr>\n",
              "      <th>237</th>\n",
              "      <td>2017-07-23</td>\n",
              "      <td>73791.0</td>\n",
              "    </tr>\n",
              "    <tr>\n",
              "      <th>238</th>\n",
              "      <td>2017-07-30</td>\n",
              "      <td>71142.0</td>\n",
              "    </tr>\n",
              "    <tr>\n",
              "      <th>239</th>\n",
              "      <td>2017-08-06</td>\n",
              "      <td>75507.0</td>\n",
              "    </tr>\n",
              "    <tr>\n",
              "      <th>240</th>\n",
              "      <td>2017-08-13</td>\n",
              "      <td>61038.0</td>\n",
              "    </tr>\n",
              "  </tbody>\n",
              "</table>\n",
              "</div>"
            ],
            "text/plain": [
              "            ds        y\n",
              "236 2017-07-16  69860.0\n",
              "237 2017-07-23  73791.0\n",
              "238 2017-07-30  71142.0\n",
              "239 2017-08-06  75507.0\n",
              "240 2017-08-13  61038.0"
            ]
          },
          "metadata": {},
          "execution_count": 18
        }
      ]
    },
    {
      "cell_type": "code",
      "metadata": {
        "id": "8GlJ4UXyaqB7"
      },
      "source": [
        "#consider holiday dates\n",
        "holidays = pd.DataFrame({\n",
        "  'holiday': 'christmas',\n",
        "  'ds': pd.to_datetime(['2013-12-25', '2014-12-25', '2015-12-25', '2016-12-25', '2017-12-25']),\n",
        "  'lower_window': 0,\n",
        "  'upper_window': 1,\n",
        "})"
      ],
      "execution_count": 19,
      "outputs": []
    },
    {
      "cell_type": "code",
      "metadata": {
        "id": "lEA5u41EpFwb",
        "colab": {
          "base_uri": "https://localhost:8080/",
          "height": 206
        },
        "outputId": "9ed2cf04-46c3-4be5-da6f-a227bc8ecf4b"
      },
      "source": [
        "df_prophet.head()"
      ],
      "execution_count": 20,
      "outputs": [
        {
          "output_type": "execute_result",
          "data": {
            "text/html": [
              "<div>\n",
              "<style scoped>\n",
              "    .dataframe tbody tr th:only-of-type {\n",
              "        vertical-align: middle;\n",
              "    }\n",
              "\n",
              "    .dataframe tbody tr th {\n",
              "        vertical-align: top;\n",
              "    }\n",
              "\n",
              "    .dataframe thead th {\n",
              "        text-align: right;\n",
              "    }\n",
              "</style>\n",
              "<table border=\"1\" class=\"dataframe\">\n",
              "  <thead>\n",
              "    <tr style=\"text-align: right;\">\n",
              "      <th></th>\n",
              "      <th>ds</th>\n",
              "      <th>y</th>\n",
              "    </tr>\n",
              "  </thead>\n",
              "  <tbody>\n",
              "    <tr>\n",
              "      <th>0</th>\n",
              "      <td>2013-01-06</td>\n",
              "      <td>48350.0</td>\n",
              "    </tr>\n",
              "    <tr>\n",
              "      <th>1</th>\n",
              "      <td>2013-01-13</td>\n",
              "      <td>64362.0</td>\n",
              "    </tr>\n",
              "    <tr>\n",
              "      <th>2</th>\n",
              "      <td>2013-01-20</td>\n",
              "      <td>49703.0</td>\n",
              "    </tr>\n",
              "    <tr>\n",
              "      <th>3</th>\n",
              "      <td>2013-01-27</td>\n",
              "      <td>59342.0</td>\n",
              "    </tr>\n",
              "    <tr>\n",
              "      <th>4</th>\n",
              "      <td>2013-02-03</td>\n",
              "      <td>49611.0</td>\n",
              "    </tr>\n",
              "  </tbody>\n",
              "</table>\n",
              "</div>"
            ],
            "text/plain": [
              "          ds        y\n",
              "0 2013-01-06  48350.0\n",
              "1 2013-01-13  64362.0\n",
              "2 2013-01-20  49703.0\n",
              "3 2013-01-27  59342.0\n",
              "4 2013-02-03  49611.0"
            ]
          },
          "metadata": {},
          "execution_count": 20
        }
      ]
    },
    {
      "cell_type": "code",
      "metadata": {
        "id": "dSEDRDisMb6r",
        "colab": {
          "base_uri": "https://localhost:8080/"
        },
        "outputId": "70bc70d5-56c2-4476-82f5-dd3628304325"
      },
      "source": [
        "m = Prophet(interval_width=0.95, yearly_seasonality=True, weekly_seasonality=True, holidays=holidays)#, seasonality_mode='multiplicative')\n",
        "model = m.fit(df_prophet)"
      ],
      "execution_count": 21,
      "outputs": [
        {
          "output_type": "stream",
          "name": "stderr",
          "text": [
            "INFO:fbprophet:Disabling daily seasonality. Run prophet with daily_seasonality=True to override this.\n"
          ]
        }
      ]
    },
    {
      "cell_type": "markdown",
      "metadata": {
        "id": "X_zFcNJyyXy_"
      },
      "source": [
        "## Forecasting"
      ]
    },
    {
      "cell_type": "code",
      "metadata": {
        "id": "jBbsDENfwI7w",
        "colab": {
          "base_uri": "https://localhost:8080/",
          "height": 313
        },
        "outputId": "108cd94b-096c-41c7-d907-a1f80f06af85"
      },
      "source": [
        "future = m.make_future_dataframe(periods=12, freq='W')\n",
        "future['floor'] = 0\n",
        "forecast = m.predict(future)\n",
        "forecast.head()"
      ],
      "execution_count": 22,
      "outputs": [
        {
          "output_type": "execute_result",
          "data": {
            "text/html": [
              "<div>\n",
              "<style scoped>\n",
              "    .dataframe tbody tr th:only-of-type {\n",
              "        vertical-align: middle;\n",
              "    }\n",
              "\n",
              "    .dataframe tbody tr th {\n",
              "        vertical-align: top;\n",
              "    }\n",
              "\n",
              "    .dataframe thead th {\n",
              "        text-align: right;\n",
              "    }\n",
              "</style>\n",
              "<table border=\"1\" class=\"dataframe\">\n",
              "  <thead>\n",
              "    <tr style=\"text-align: right;\">\n",
              "      <th></th>\n",
              "      <th>ds</th>\n",
              "      <th>trend</th>\n",
              "      <th>yhat_lower</th>\n",
              "      <th>yhat_upper</th>\n",
              "      <th>trend_lower</th>\n",
              "      <th>trend_upper</th>\n",
              "      <th>additive_terms</th>\n",
              "      <th>additive_terms_lower</th>\n",
              "      <th>additive_terms_upper</th>\n",
              "      <th>christmas</th>\n",
              "      <th>christmas_lower</th>\n",
              "      <th>christmas_upper</th>\n",
              "      <th>holidays</th>\n",
              "      <th>holidays_lower</th>\n",
              "      <th>holidays_upper</th>\n",
              "      <th>weekly</th>\n",
              "      <th>weekly_lower</th>\n",
              "      <th>weekly_upper</th>\n",
              "      <th>yearly</th>\n",
              "      <th>yearly_lower</th>\n",
              "      <th>yearly_upper</th>\n",
              "      <th>multiplicative_terms</th>\n",
              "      <th>multiplicative_terms_lower</th>\n",
              "      <th>multiplicative_terms_upper</th>\n",
              "      <th>yhat</th>\n",
              "    </tr>\n",
              "  </thead>\n",
              "  <tbody>\n",
              "    <tr>\n",
              "      <th>0</th>\n",
              "      <td>2013-01-06</td>\n",
              "      <td>50357.826728</td>\n",
              "      <td>41263.705754</td>\n",
              "      <td>74491.969220</td>\n",
              "      <td>50357.826728</td>\n",
              "      <td>50357.826728</td>\n",
              "      <td>6205.684460</td>\n",
              "      <td>6205.684460</td>\n",
              "      <td>6205.684460</td>\n",
              "      <td>0.0</td>\n",
              "      <td>0.0</td>\n",
              "      <td>0.0</td>\n",
              "      <td>0.0</td>\n",
              "      <td>0.0</td>\n",
              "      <td>0.0</td>\n",
              "      <td>6115.741751</td>\n",
              "      <td>6115.741751</td>\n",
              "      <td>6115.741751</td>\n",
              "      <td>89.942708</td>\n",
              "      <td>89.942708</td>\n",
              "      <td>89.942708</td>\n",
              "      <td>0.0</td>\n",
              "      <td>0.0</td>\n",
              "      <td>0.0</td>\n",
              "      <td>56563.511188</td>\n",
              "    </tr>\n",
              "    <tr>\n",
              "      <th>1</th>\n",
              "      <td>2013-01-13</td>\n",
              "      <td>50456.953703</td>\n",
              "      <td>37420.976141</td>\n",
              "      <td>67604.604592</td>\n",
              "      <td>50456.953703</td>\n",
              "      <td>50456.953703</td>\n",
              "      <td>2521.748461</td>\n",
              "      <td>2521.748461</td>\n",
              "      <td>2521.748461</td>\n",
              "      <td>0.0</td>\n",
              "      <td>0.0</td>\n",
              "      <td>0.0</td>\n",
              "      <td>0.0</td>\n",
              "      <td>0.0</td>\n",
              "      <td>0.0</td>\n",
              "      <td>6115.741751</td>\n",
              "      <td>6115.741751</td>\n",
              "      <td>6115.741751</td>\n",
              "      <td>-3593.993291</td>\n",
              "      <td>-3593.993291</td>\n",
              "      <td>-3593.993291</td>\n",
              "      <td>0.0</td>\n",
              "      <td>0.0</td>\n",
              "      <td>0.0</td>\n",
              "      <td>52978.702164</td>\n",
              "    </tr>\n",
              "    <tr>\n",
              "      <th>2</th>\n",
              "      <td>2013-01-20</td>\n",
              "      <td>50556.080677</td>\n",
              "      <td>39104.240182</td>\n",
              "      <td>70288.070395</td>\n",
              "      <td>50556.080677</td>\n",
              "      <td>50556.080677</td>\n",
              "      <td>4208.277466</td>\n",
              "      <td>4208.277466</td>\n",
              "      <td>4208.277466</td>\n",
              "      <td>0.0</td>\n",
              "      <td>0.0</td>\n",
              "      <td>0.0</td>\n",
              "      <td>0.0</td>\n",
              "      <td>0.0</td>\n",
              "      <td>0.0</td>\n",
              "      <td>6115.741751</td>\n",
              "      <td>6115.741751</td>\n",
              "      <td>6115.741751</td>\n",
              "      <td>-1907.464285</td>\n",
              "      <td>-1907.464285</td>\n",
              "      <td>-1907.464285</td>\n",
              "      <td>0.0</td>\n",
              "      <td>0.0</td>\n",
              "      <td>0.0</td>\n",
              "      <td>54764.358144</td>\n",
              "    </tr>\n",
              "    <tr>\n",
              "      <th>3</th>\n",
              "      <td>2013-01-27</td>\n",
              "      <td>50655.207652</td>\n",
              "      <td>40142.216877</td>\n",
              "      <td>72237.152041</td>\n",
              "      <td>50655.207652</td>\n",
              "      <td>50655.207652</td>\n",
              "      <td>5438.502694</td>\n",
              "      <td>5438.502694</td>\n",
              "      <td>5438.502694</td>\n",
              "      <td>0.0</td>\n",
              "      <td>0.0</td>\n",
              "      <td>0.0</td>\n",
              "      <td>0.0</td>\n",
              "      <td>0.0</td>\n",
              "      <td>0.0</td>\n",
              "      <td>6115.741751</td>\n",
              "      <td>6115.741751</td>\n",
              "      <td>6115.741751</td>\n",
              "      <td>-677.239058</td>\n",
              "      <td>-677.239058</td>\n",
              "      <td>-677.239058</td>\n",
              "      <td>0.0</td>\n",
              "      <td>0.0</td>\n",
              "      <td>0.0</td>\n",
              "      <td>56093.710346</td>\n",
              "    </tr>\n",
              "    <tr>\n",
              "      <th>4</th>\n",
              "      <td>2013-02-03</td>\n",
              "      <td>50754.334626</td>\n",
              "      <td>38913.865142</td>\n",
              "      <td>69555.226653</td>\n",
              "      <td>50754.334626</td>\n",
              "      <td>50754.334626</td>\n",
              "      <td>3045.753676</td>\n",
              "      <td>3045.753676</td>\n",
              "      <td>3045.753676</td>\n",
              "      <td>0.0</td>\n",
              "      <td>0.0</td>\n",
              "      <td>0.0</td>\n",
              "      <td>0.0</td>\n",
              "      <td>0.0</td>\n",
              "      <td>0.0</td>\n",
              "      <td>6115.741751</td>\n",
              "      <td>6115.741751</td>\n",
              "      <td>6115.741751</td>\n",
              "      <td>-3069.988075</td>\n",
              "      <td>-3069.988075</td>\n",
              "      <td>-3069.988075</td>\n",
              "      <td>0.0</td>\n",
              "      <td>0.0</td>\n",
              "      <td>0.0</td>\n",
              "      <td>53800.088303</td>\n",
              "    </tr>\n",
              "  </tbody>\n",
              "</table>\n",
              "</div>"
            ],
            "text/plain": [
              "          ds         trend  ...  multiplicative_terms_upper          yhat\n",
              "0 2013-01-06  50357.826728  ...                         0.0  56563.511188\n",
              "1 2013-01-13  50456.953703  ...                         0.0  52978.702164\n",
              "2 2013-01-20  50556.080677  ...                         0.0  54764.358144\n",
              "3 2013-01-27  50655.207652  ...                         0.0  56093.710346\n",
              "4 2013-02-03  50754.334626  ...                         0.0  53800.088303\n",
              "\n",
              "[5 rows x 25 columns]"
            ]
          },
          "metadata": {},
          "execution_count": 22
        }
      ]
    },
    {
      "cell_type": "code",
      "metadata": {
        "id": "Qq37qsukw5Gf",
        "colab": {
          "base_uri": "https://localhost:8080/",
          "height": 423
        },
        "outputId": "5c116357-d512-4da1-dcda-0b0c845c2323"
      },
      "source": [
        "forecast[['ds','yhat']]"
      ],
      "execution_count": 23,
      "outputs": [
        {
          "output_type": "execute_result",
          "data": {
            "text/html": [
              "<div>\n",
              "<style scoped>\n",
              "    .dataframe tbody tr th:only-of-type {\n",
              "        vertical-align: middle;\n",
              "    }\n",
              "\n",
              "    .dataframe tbody tr th {\n",
              "        vertical-align: top;\n",
              "    }\n",
              "\n",
              "    .dataframe thead th {\n",
              "        text-align: right;\n",
              "    }\n",
              "</style>\n",
              "<table border=\"1\" class=\"dataframe\">\n",
              "  <thead>\n",
              "    <tr style=\"text-align: right;\">\n",
              "      <th></th>\n",
              "      <th>ds</th>\n",
              "      <th>yhat</th>\n",
              "    </tr>\n",
              "  </thead>\n",
              "  <tbody>\n",
              "    <tr>\n",
              "      <th>0</th>\n",
              "      <td>2013-01-06</td>\n",
              "      <td>56563.511188</td>\n",
              "    </tr>\n",
              "    <tr>\n",
              "      <th>1</th>\n",
              "      <td>2013-01-13</td>\n",
              "      <td>52978.702164</td>\n",
              "    </tr>\n",
              "    <tr>\n",
              "      <th>2</th>\n",
              "      <td>2013-01-20</td>\n",
              "      <td>54764.358144</td>\n",
              "    </tr>\n",
              "    <tr>\n",
              "      <th>3</th>\n",
              "      <td>2013-01-27</td>\n",
              "      <td>56093.710346</td>\n",
              "    </tr>\n",
              "    <tr>\n",
              "      <th>4</th>\n",
              "      <td>2013-02-03</td>\n",
              "      <td>53800.088303</td>\n",
              "    </tr>\n",
              "    <tr>\n",
              "      <th>...</th>\n",
              "      <td>...</td>\n",
              "      <td>...</td>\n",
              "    </tr>\n",
              "    <tr>\n",
              "      <th>248</th>\n",
              "      <td>2017-10-08</td>\n",
              "      <td>82197.859346</td>\n",
              "    </tr>\n",
              "    <tr>\n",
              "      <th>249</th>\n",
              "      <td>2017-10-15</td>\n",
              "      <td>79288.213591</td>\n",
              "    </tr>\n",
              "    <tr>\n",
              "      <th>250</th>\n",
              "      <td>2017-10-22</td>\n",
              "      <td>78516.165342</td>\n",
              "    </tr>\n",
              "    <tr>\n",
              "      <th>251</th>\n",
              "      <td>2017-10-29</td>\n",
              "      <td>81889.897785</td>\n",
              "    </tr>\n",
              "    <tr>\n",
              "      <th>252</th>\n",
              "      <td>2017-11-05</td>\n",
              "      <td>86498.823251</td>\n",
              "    </tr>\n",
              "  </tbody>\n",
              "</table>\n",
              "<p>253 rows × 2 columns</p>\n",
              "</div>"
            ],
            "text/plain": [
              "            ds          yhat\n",
              "0   2013-01-06  56563.511188\n",
              "1   2013-01-13  52978.702164\n",
              "2   2013-01-20  54764.358144\n",
              "3   2013-01-27  56093.710346\n",
              "4   2013-02-03  53800.088303\n",
              "..         ...           ...\n",
              "248 2017-10-08  82197.859346\n",
              "249 2017-10-15  79288.213591\n",
              "250 2017-10-22  78516.165342\n",
              "251 2017-10-29  81889.897785\n",
              "252 2017-11-05  86498.823251\n",
              "\n",
              "[253 rows x 2 columns]"
            ]
          },
          "metadata": {},
          "execution_count": 23
        }
      ]
    },
    {
      "cell_type": "code",
      "metadata": {
        "id": "SfuAz4rTxJCp",
        "colab": {
          "base_uri": "https://localhost:8080/",
          "height": 511
        },
        "outputId": "e23a80e2-996d-47e2-b8db-fd1b627606ad"
      },
      "source": [
        "import matplotlib.pyplot as plt\n",
        "\n",
        "#plot1 = m.plot(forecast)\n",
        "fig = m.plot(forecast)#, xlabel='Date', ylabel='Weekly Orders')\n",
        "plt.rcParams[\"figure.figsize\"] = [9.50, 7.50]\n",
        "#plt.rcParams[\"figure.autolayout\"] = True\n",
        "ax = fig.gca()\n",
        "ax.set_title(\"Three-Month Forecast on Weekly Sales of product family 'GROCERY I' for Store no.44 \\n (forecast model in blue line / initial dataset in black dots) \\n\", size=18)\n",
        "#ax.set_xlabel(\"X\")\n",
        "#ax.set_ylabel(\"Y\")\n",
        "plt.xlabel('Sales  Date', fontsize=18)\n",
        "plt.ylabel('Weekly  Sales', fontsize=18)\n",
        "ax.tick_params(axis=\"x\")\n",
        "ax.tick_params(axis=\"y\")"
      ],
      "execution_count": 24,
      "outputs": [
        {
          "output_type": "display_data",
          "data": {
            "image/png": "[encoded data removed]",
            "text/plain": [
              "<Figure size 720x432 with 1 Axes>"
            ]
          },
          "metadata": {}
        }
      ]
    },
    {
      "cell_type": "code",
      "metadata": {
        "id": "h3TQKRHMx3ZX",
        "colab": {
          "base_uri": "https://localhost:8080/",
          "height": 423
        },
        "outputId": "d40d4204-c0fb-458e-ce65-7c0fe577a1b0"
      },
      "source": [
        "df_prophet[['ds','y']]"
      ],
      "execution_count": 25,
      "outputs": [
        {
          "output_type": "execute_result",
          "data": {
            "text/html": [
              "<div>\n",
              "<style scoped>\n",
              "    .dataframe tbody tr th:only-of-type {\n",
              "        vertical-align: middle;\n",
              "    }\n",
              "\n",
              "    .dataframe tbody tr th {\n",
              "        vertical-align: top;\n",
              "    }\n",
              "\n",
              "    .dataframe thead th {\n",
              "        text-align: right;\n",
              "    }\n",
              "</style>\n",
              "<table border=\"1\" class=\"dataframe\">\n",
              "  <thead>\n",
              "    <tr style=\"text-align: right;\">\n",
              "      <th></th>\n",
              "      <th>ds</th>\n",
              "      <th>y</th>\n",
              "    </tr>\n",
              "  </thead>\n",
              "  <tbody>\n",
              "    <tr>\n",
              "      <th>0</th>\n",
              "      <td>2013-01-06</td>\n",
              "      <td>48350.0</td>\n",
              "    </tr>\n",
              "    <tr>\n",
              "      <th>1</th>\n",
              "      <td>2013-01-13</td>\n",
              "      <td>64362.0</td>\n",
              "    </tr>\n",
              "    <tr>\n",
              "      <th>2</th>\n",
              "      <td>2013-01-20</td>\n",
              "      <td>49703.0</td>\n",
              "    </tr>\n",
              "    <tr>\n",
              "      <th>3</th>\n",
              "      <td>2013-01-27</td>\n",
              "      <td>59342.0</td>\n",
              "    </tr>\n",
              "    <tr>\n",
              "      <th>4</th>\n",
              "      <td>2013-02-03</td>\n",
              "      <td>49611.0</td>\n",
              "    </tr>\n",
              "    <tr>\n",
              "      <th>...</th>\n",
              "      <td>...</td>\n",
              "      <td>...</td>\n",
              "    </tr>\n",
              "    <tr>\n",
              "      <th>236</th>\n",
              "      <td>2017-07-16</td>\n",
              "      <td>69860.0</td>\n",
              "    </tr>\n",
              "    <tr>\n",
              "      <th>237</th>\n",
              "      <td>2017-07-23</td>\n",
              "      <td>73791.0</td>\n",
              "    </tr>\n",
              "    <tr>\n",
              "      <th>238</th>\n",
              "      <td>2017-07-30</td>\n",
              "      <td>71142.0</td>\n",
              "    </tr>\n",
              "    <tr>\n",
              "      <th>239</th>\n",
              "      <td>2017-08-06</td>\n",
              "      <td>75507.0</td>\n",
              "    </tr>\n",
              "    <tr>\n",
              "      <th>240</th>\n",
              "      <td>2017-08-13</td>\n",
              "      <td>61038.0</td>\n",
              "    </tr>\n",
              "  </tbody>\n",
              "</table>\n",
              "<p>241 rows × 2 columns</p>\n",
              "</div>"
            ],
            "text/plain": [
              "            ds        y\n",
              "0   2013-01-06  48350.0\n",
              "1   2013-01-13  64362.0\n",
              "2   2013-01-20  49703.0\n",
              "3   2013-01-27  59342.0\n",
              "4   2013-02-03  49611.0\n",
              "..         ...      ...\n",
              "236 2017-07-16  69860.0\n",
              "237 2017-07-23  73791.0\n",
              "238 2017-07-30  71142.0\n",
              "239 2017-08-06  75507.0\n",
              "240 2017-08-13  61038.0\n",
              "\n",
              "[241 rows x 2 columns]"
            ]
          },
          "metadata": {},
          "execution_count": 25
        }
      ]
    },
    {
      "cell_type": "markdown",
      "metadata": {
        "id": "I16xm0Pnyr9r"
      },
      "source": [
        "## Results Evaluation"
      ]
    },
    {
      "cell_type": "code",
      "metadata": {
        "id": "j7bQEOaO-QY0",
        "colab": {
          "base_uri": "https://localhost:8080/",
          "height": 67,
          "referenced_widgets": [
            "08869a50c54c49608bacf6abd94921ae",
            "ac9842e6f13540f9a2b43034bd3f89e9",
            "51e748dbbbc14542a65c2f49f9753034",
            "7ace9860fa9247d4a210932111baf2cd",
            "154e63aad9104f52a56c840d2e3926f8",
            "a66743791ae541509622760cbcdfee00",
            "be3e9c29e0f34229885fed6faa9a0ba3",
            "0deaaee31482481a9c9352a99e7d20fa",
            "b87e41282f0c46ad898dba41aa5c7ca1",
            "1971a7bf91e14c83829ec8793a6c7c07",
            "469096ccdd6840f5b5392a46683e8582"
          ]
        },
        "outputId": "05c13724-b97c-4754-f551-2e974a76da96"
      },
      "source": [
        "from fbprophet.diagnostics import cross_validation\n",
        "df_cv = cross_validation(m, initial='370 days', period='370 days', horizon = '90 days')"
      ],
      "execution_count": 26,
      "outputs": [
        {
          "output_type": "stream",
          "name": "stderr",
          "text": [
            "INFO:fbprophet:Making 4 forecasts with cutoffs between 2014-05-01 00:00:00 and 2017-05-15 00:00:00\n"
          ]
        },
        {
          "output_type": "display_data",
          "data": {
            "application/vnd.jupyter.widget-view+json": {
              "model_id": "08869a50c54c49608bacf6abd94921ae",
              "version_minor": 0,
              "version_major": 2
            },
            "text/plain": [
              "  0%|          | 0/4 [00:00<?, ?it/s]"
            ]
          },
          "metadata": {}
        }
      ]
    },
    {
      "cell_type": "code",
      "metadata": {
        "id": "aVGiVxy6Duz5",
        "colab": {
          "base_uri": "https://localhost:8080/",
          "height": 206
        },
        "outputId": "5f9dfc2f-7a2a-46d9-b9cd-d52acd0754a3"
      },
      "source": [
        "df_cv.head()"
      ],
      "execution_count": 27,
      "outputs": [
        {
          "output_type": "execute_result",
          "data": {
            "text/html": [
              "<div>\n",
              "<style scoped>\n",
              "    .dataframe tbody tr th:only-of-type {\n",
              "        vertical-align: middle;\n",
              "    }\n",
              "\n",
              "    .dataframe tbody tr th {\n",
              "        vertical-align: top;\n",
              "    }\n",
              "\n",
              "    .dataframe thead th {\n",
              "        text-align: right;\n",
              "    }\n",
              "</style>\n",
              "<table border=\"1\" class=\"dataframe\">\n",
              "  <thead>\n",
              "    <tr style=\"text-align: right;\">\n",
              "      <th></th>\n",
              "      <th>ds</th>\n",
              "      <th>yhat</th>\n",
              "      <th>yhat_lower</th>\n",
              "      <th>yhat_upper</th>\n",
              "      <th>y</th>\n",
              "      <th>cutoff</th>\n",
              "    </tr>\n",
              "  </thead>\n",
              "  <tbody>\n",
              "    <tr>\n",
              "      <th>0</th>\n",
              "      <td>2014-05-04</td>\n",
              "      <td>61336.881283</td>\n",
              "      <td>47475.268701</td>\n",
              "      <td>74871.596055</td>\n",
              "      <td>64325.0</td>\n",
              "      <td>2014-05-01</td>\n",
              "    </tr>\n",
              "    <tr>\n",
              "      <th>1</th>\n",
              "      <td>2014-05-11</td>\n",
              "      <td>62463.347864</td>\n",
              "      <td>48756.575293</td>\n",
              "      <td>77152.662045</td>\n",
              "      <td>56224.0</td>\n",
              "      <td>2014-05-01</td>\n",
              "    </tr>\n",
              "    <tr>\n",
              "      <th>2</th>\n",
              "      <td>2014-05-18</td>\n",
              "      <td>62880.355554</td>\n",
              "      <td>49416.874985</td>\n",
              "      <td>75849.593045</td>\n",
              "      <td>70982.0</td>\n",
              "      <td>2014-05-01</td>\n",
              "    </tr>\n",
              "    <tr>\n",
              "      <th>3</th>\n",
              "      <td>2014-05-25</td>\n",
              "      <td>62284.950730</td>\n",
              "      <td>49259.853197</td>\n",
              "      <td>76273.371266</td>\n",
              "      <td>56535.0</td>\n",
              "      <td>2014-05-01</td>\n",
              "    </tr>\n",
              "    <tr>\n",
              "      <th>4</th>\n",
              "      <td>2014-06-01</td>\n",
              "      <td>61768.663197</td>\n",
              "      <td>48045.559176</td>\n",
              "      <td>75518.860160</td>\n",
              "      <td>60546.0</td>\n",
              "      <td>2014-05-01</td>\n",
              "    </tr>\n",
              "  </tbody>\n",
              "</table>\n",
              "</div>"
            ],
            "text/plain": [
              "          ds          yhat    yhat_lower    yhat_upper        y     cutoff\n",
              "0 2014-05-04  61336.881283  47475.268701  74871.596055  64325.0 2014-05-01\n",
              "1 2014-05-11  62463.347864  48756.575293  77152.662045  56224.0 2014-05-01\n",
              "2 2014-05-18  62880.355554  49416.874985  75849.593045  70982.0 2014-05-01\n",
              "3 2014-05-25  62284.950730  49259.853197  76273.371266  56535.0 2014-05-01\n",
              "4 2014-06-01  61768.663197  48045.559176  75518.860160  60546.0 2014-05-01"
            ]
          },
          "metadata": {},
          "execution_count": 27
        }
      ]
    },
    {
      "cell_type": "code",
      "metadata": {
        "id": "_ys20hf6D-pI",
        "colab": {
          "base_uri": "https://localhost:8080/",
          "height": 206
        },
        "outputId": "5247ec19-ccf8-41e8-f55c-a3200466a98d"
      },
      "source": [
        "from fbprophet.diagnostics import performance_metrics\n",
        "df_p = performance_metrics(df_cv)\n",
        "df_p.tail()"
      ],
      "execution_count": 28,
      "outputs": [
        {
          "output_type": "execute_result",
          "data": {
            "text/html": [
              "<div>\n",
              "<style scoped>\n",
              "    .dataframe tbody tr th:only-of-type {\n",
              "        vertical-align: middle;\n",
              "    }\n",
              "\n",
              "    .dataframe tbody tr th {\n",
              "        vertical-align: top;\n",
              "    }\n",
              "\n",
              "    .dataframe thead th {\n",
              "        text-align: right;\n",
              "    }\n",
              "</style>\n",
              "<table border=\"1\" class=\"dataframe\">\n",
              "  <thead>\n",
              "    <tr style=\"text-align: right;\">\n",
              "      <th></th>\n",
              "      <th>horizon</th>\n",
              "      <th>mse</th>\n",
              "      <th>rmse</th>\n",
              "      <th>mae</th>\n",
              "      <th>mape</th>\n",
              "      <th>mdape</th>\n",
              "      <th>coverage</th>\n",
              "    </tr>\n",
              "  </thead>\n",
              "  <tbody>\n",
              "    <tr>\n",
              "      <th>43</th>\n",
              "      <td>83 days</td>\n",
              "      <td>2.737248e+07</td>\n",
              "      <td>5231.871543</td>\n",
              "      <td>4533.374661</td>\n",
              "      <td>0.072436</td>\n",
              "      <td>0.063188</td>\n",
              "      <td>1.0</td>\n",
              "    </tr>\n",
              "    <tr>\n",
              "      <th>44</th>\n",
              "      <td>87 days</td>\n",
              "      <td>3.637785e+07</td>\n",
              "      <td>6031.405322</td>\n",
              "      <td>5698.256981</td>\n",
              "      <td>0.089987</td>\n",
              "      <td>0.083237</td>\n",
              "      <td>1.0</td>\n",
              "    </tr>\n",
              "    <tr>\n",
              "      <th>45</th>\n",
              "      <td>88 days</td>\n",
              "      <td>3.178683e+07</td>\n",
              "      <td>5637.981136</td>\n",
              "      <td>4751.061978</td>\n",
              "      <td>0.073513</td>\n",
              "      <td>0.063188</td>\n",
              "      <td>1.0</td>\n",
              "    </tr>\n",
              "    <tr>\n",
              "      <th>46</th>\n",
              "      <td>89 days</td>\n",
              "      <td>2.000427e+07</td>\n",
              "      <td>4472.612883</td>\n",
              "      <td>3879.762361</td>\n",
              "      <td>0.055744</td>\n",
              "      <td>0.063188</td>\n",
              "      <td>1.0</td>\n",
              "    </tr>\n",
              "    <tr>\n",
              "      <th>47</th>\n",
              "      <td>90 days</td>\n",
              "      <td>4.800925e+07</td>\n",
              "      <td>6928.870614</td>\n",
              "      <td>5689.738695</td>\n",
              "      <td>0.085964</td>\n",
              "      <td>0.063737</td>\n",
              "      <td>1.0</td>\n",
              "    </tr>\n",
              "  </tbody>\n",
              "</table>\n",
              "</div>"
            ],
            "text/plain": [
              "   horizon           mse         rmse  ...      mape     mdape  coverage\n",
              "43 83 days  2.737248e+07  5231.871543  ...  0.072436  0.063188       1.0\n",
              "44 87 days  3.637785e+07  6031.405322  ...  0.089987  0.083237       1.0\n",
              "45 88 days  3.178683e+07  5637.981136  ...  0.073513  0.063188       1.0\n",
              "46 89 days  2.000427e+07  4472.612883  ...  0.055744  0.063188       1.0\n",
              "47 90 days  4.800925e+07  6928.870614  ...  0.085964  0.063737       1.0\n",
              "\n",
              "[5 rows x 7 columns]"
            ]
          },
          "metadata": {},
          "execution_count": 28
        }
      ]
    },
    {
      "cell_type": "code",
      "metadata": {
        "id": "3NP_hXlhICuZ",
        "colab": {
          "base_uri": "https://localhost:8080/",
          "height": 388
        },
        "outputId": "1012ebc4-6c05-43ff-cff9-c3264c860236"
      },
      "source": [
        "from fbprophet.plot import plot_cross_validation_metric\n",
        "fig = plot_cross_validation_metric(df_cv, metric='mape')"
      ],
      "execution_count": 29,
      "outputs": [
        {
          "output_type": "display_data",
          "data": {
            "image/png": "[encoded data removed]",
            "text/plain": [
              "<Figure size 720x432 with 1 Axes>"
            ]
          },
          "metadata": {}
        }
      ]
    }
  ]
}
